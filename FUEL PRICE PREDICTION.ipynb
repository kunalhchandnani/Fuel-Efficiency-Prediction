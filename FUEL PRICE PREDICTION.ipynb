{
 "cells": [
  {
   "cell_type": "code",
   "execution_count": 1,
   "id": "6c34c836",
   "metadata": {},
   "outputs": [],
   "source": [
    "import pandas as pd\n",
    "import matplotlib.pyplot as plt\n",
    "import numpy as np\n",
    "import seaborn as sb\n",
    "\n",
    "import tensorflow as tf\n",
    "from tensorflow import keras\n",
    "from keras import layers\n",
    "\n",
    "import warnings\n",
    "warnings.filterwarnings(\"ignore\")\n",
    "\n",
    "from jupyterthemes import jtplot\n",
    "jtplot.style(theme='monokai', context='notebook', ticks=True, grid=False)"
   ]
  },
  {
   "cell_type": "code",
   "execution_count": 2,
   "id": "fde57722",
   "metadata": {},
   "outputs": [],
   "source": [
    "df=pd.read_csv('auto-mpg.csv')"
   ]
  },
  {
   "cell_type": "code",
   "execution_count": 3,
   "id": "d4a66552",
   "metadata": {},
   "outputs": [
    {
     "data": {
      "text/html": [
       "<div>\n",
       "<style scoped>\n",
       "    .dataframe tbody tr th:only-of-type {\n",
       "        vertical-align: middle;\n",
       "    }\n",
       "\n",
       "    .dataframe tbody tr th {\n",
       "        vertical-align: top;\n",
       "    }\n",
       "\n",
       "    .dataframe thead th {\n",
       "        text-align: right;\n",
       "    }\n",
       "</style>\n",
       "<table border=\"1\" class=\"dataframe\">\n",
       "  <thead>\n",
       "    <tr style=\"text-align: right;\">\n",
       "      <th></th>\n",
       "      <th>mpg</th>\n",
       "      <th>cylinders</th>\n",
       "      <th>displacement</th>\n",
       "      <th>horsepower</th>\n",
       "      <th>weight</th>\n",
       "      <th>acceleration</th>\n",
       "      <th>model year</th>\n",
       "      <th>origin</th>\n",
       "      <th>car name</th>\n",
       "    </tr>\n",
       "  </thead>\n",
       "  <tbody>\n",
       "    <tr>\n",
       "      <th>0</th>\n",
       "      <td>18.0</td>\n",
       "      <td>8</td>\n",
       "      <td>307.0</td>\n",
       "      <td>130</td>\n",
       "      <td>3504</td>\n",
       "      <td>12.0</td>\n",
       "      <td>70</td>\n",
       "      <td>1</td>\n",
       "      <td>chevrolet chevelle malibu</td>\n",
       "    </tr>\n",
       "    <tr>\n",
       "      <th>1</th>\n",
       "      <td>15.0</td>\n",
       "      <td>8</td>\n",
       "      <td>350.0</td>\n",
       "      <td>165</td>\n",
       "      <td>3693</td>\n",
       "      <td>11.5</td>\n",
       "      <td>70</td>\n",
       "      <td>1</td>\n",
       "      <td>buick skylark 320</td>\n",
       "    </tr>\n",
       "    <tr>\n",
       "      <th>2</th>\n",
       "      <td>18.0</td>\n",
       "      <td>8</td>\n",
       "      <td>318.0</td>\n",
       "      <td>150</td>\n",
       "      <td>3436</td>\n",
       "      <td>11.0</td>\n",
       "      <td>70</td>\n",
       "      <td>1</td>\n",
       "      <td>plymouth satellite</td>\n",
       "    </tr>\n",
       "    <tr>\n",
       "      <th>3</th>\n",
       "      <td>16.0</td>\n",
       "      <td>8</td>\n",
       "      <td>304.0</td>\n",
       "      <td>150</td>\n",
       "      <td>3433</td>\n",
       "      <td>12.0</td>\n",
       "      <td>70</td>\n",
       "      <td>1</td>\n",
       "      <td>amc rebel sst</td>\n",
       "    </tr>\n",
       "    <tr>\n",
       "      <th>4</th>\n",
       "      <td>17.0</td>\n",
       "      <td>8</td>\n",
       "      <td>302.0</td>\n",
       "      <td>140</td>\n",
       "      <td>3449</td>\n",
       "      <td>10.5</td>\n",
       "      <td>70</td>\n",
       "      <td>1</td>\n",
       "      <td>ford torino</td>\n",
       "    </tr>\n",
       "  </tbody>\n",
       "</table>\n",
       "</div>"
      ],
      "text/plain": [
       "    mpg  cylinders  displacement horsepower  weight  acceleration  model year  \\\n",
       "0  18.0          8         307.0        130    3504          12.0          70   \n",
       "1  15.0          8         350.0        165    3693          11.5          70   \n",
       "2  18.0          8         318.0        150    3436          11.0          70   \n",
       "3  16.0          8         304.0        150    3433          12.0          70   \n",
       "4  17.0          8         302.0        140    3449          10.5          70   \n",
       "\n",
       "   origin                   car name  \n",
       "0       1  chevrolet chevelle malibu  \n",
       "1       1          buick skylark 320  \n",
       "2       1         plymouth satellite  \n",
       "3       1              amc rebel sst  \n",
       "4       1                ford torino  "
      ]
     },
     "execution_count": 3,
     "metadata": {},
     "output_type": "execute_result"
    }
   ],
   "source": [
    "df.head()"
   ]
  },
  {
   "cell_type": "code",
   "execution_count": 4,
   "id": "8ebbe282",
   "metadata": {},
   "outputs": [
    {
     "data": {
      "text/plain": [
       "(398, 9)"
      ]
     },
     "execution_count": 4,
     "metadata": {},
     "output_type": "execute_result"
    }
   ],
   "source": [
    "df.shape"
   ]
  },
  {
   "cell_type": "code",
   "execution_count": 5,
   "id": "84add422",
   "metadata": {},
   "outputs": [
    {
     "name": "stdout",
     "output_type": "stream",
     "text": [
      "<class 'pandas.core.frame.DataFrame'>\n",
      "RangeIndex: 398 entries, 0 to 397\n",
      "Data columns (total 9 columns):\n",
      " #   Column        Non-Null Count  Dtype  \n",
      "---  ------        --------------  -----  \n",
      " 0   mpg           398 non-null    float64\n",
      " 1   cylinders     398 non-null    int64  \n",
      " 2   displacement  398 non-null    float64\n",
      " 3   horsepower    398 non-null    object \n",
      " 4   weight        398 non-null    int64  \n",
      " 5   acceleration  398 non-null    float64\n",
      " 6   model year    398 non-null    int64  \n",
      " 7   origin        398 non-null    int64  \n",
      " 8   car name      398 non-null    object \n",
      "dtypes: float64(3), int64(4), object(2)\n",
      "memory usage: 28.1+ KB\n"
     ]
    }
   ],
   "source": [
    "df.info()"
   ]
  },
  {
   "cell_type": "code",
   "execution_count": 6,
   "id": "60536e98",
   "metadata": {},
   "outputs": [
    {
     "data": {
      "text/html": [
       "<div>\n",
       "<style scoped>\n",
       "    .dataframe tbody tr th:only-of-type {\n",
       "        vertical-align: middle;\n",
       "    }\n",
       "\n",
       "    .dataframe tbody tr th {\n",
       "        vertical-align: top;\n",
       "    }\n",
       "\n",
       "    .dataframe thead th {\n",
       "        text-align: right;\n",
       "    }\n",
       "</style>\n",
       "<table border=\"1\" class=\"dataframe\">\n",
       "  <thead>\n",
       "    <tr style=\"text-align: right;\">\n",
       "      <th></th>\n",
       "      <th>mpg</th>\n",
       "      <th>cylinders</th>\n",
       "      <th>displacement</th>\n",
       "      <th>weight</th>\n",
       "      <th>acceleration</th>\n",
       "      <th>model year</th>\n",
       "      <th>origin</th>\n",
       "    </tr>\n",
       "  </thead>\n",
       "  <tbody>\n",
       "    <tr>\n",
       "      <th>count</th>\n",
       "      <td>398.000000</td>\n",
       "      <td>398.000000</td>\n",
       "      <td>398.000000</td>\n",
       "      <td>398.000000</td>\n",
       "      <td>398.000000</td>\n",
       "      <td>398.000000</td>\n",
       "      <td>398.000000</td>\n",
       "    </tr>\n",
       "    <tr>\n",
       "      <th>mean</th>\n",
       "      <td>23.514573</td>\n",
       "      <td>5.454774</td>\n",
       "      <td>193.425879</td>\n",
       "      <td>2970.424623</td>\n",
       "      <td>15.568090</td>\n",
       "      <td>76.010050</td>\n",
       "      <td>1.572864</td>\n",
       "    </tr>\n",
       "    <tr>\n",
       "      <th>std</th>\n",
       "      <td>7.815984</td>\n",
       "      <td>1.701004</td>\n",
       "      <td>104.269838</td>\n",
       "      <td>846.841774</td>\n",
       "      <td>2.757689</td>\n",
       "      <td>3.697627</td>\n",
       "      <td>0.802055</td>\n",
       "    </tr>\n",
       "    <tr>\n",
       "      <th>min</th>\n",
       "      <td>9.000000</td>\n",
       "      <td>3.000000</td>\n",
       "      <td>68.000000</td>\n",
       "      <td>1613.000000</td>\n",
       "      <td>8.000000</td>\n",
       "      <td>70.000000</td>\n",
       "      <td>1.000000</td>\n",
       "    </tr>\n",
       "    <tr>\n",
       "      <th>25%</th>\n",
       "      <td>17.500000</td>\n",
       "      <td>4.000000</td>\n",
       "      <td>104.250000</td>\n",
       "      <td>2223.750000</td>\n",
       "      <td>13.825000</td>\n",
       "      <td>73.000000</td>\n",
       "      <td>1.000000</td>\n",
       "    </tr>\n",
       "    <tr>\n",
       "      <th>50%</th>\n",
       "      <td>23.000000</td>\n",
       "      <td>4.000000</td>\n",
       "      <td>148.500000</td>\n",
       "      <td>2803.500000</td>\n",
       "      <td>15.500000</td>\n",
       "      <td>76.000000</td>\n",
       "      <td>1.000000</td>\n",
       "    </tr>\n",
       "    <tr>\n",
       "      <th>75%</th>\n",
       "      <td>29.000000</td>\n",
       "      <td>8.000000</td>\n",
       "      <td>262.000000</td>\n",
       "      <td>3608.000000</td>\n",
       "      <td>17.175000</td>\n",
       "      <td>79.000000</td>\n",
       "      <td>2.000000</td>\n",
       "    </tr>\n",
       "    <tr>\n",
       "      <th>max</th>\n",
       "      <td>46.600000</td>\n",
       "      <td>8.000000</td>\n",
       "      <td>455.000000</td>\n",
       "      <td>5140.000000</td>\n",
       "      <td>24.800000</td>\n",
       "      <td>82.000000</td>\n",
       "      <td>3.000000</td>\n",
       "    </tr>\n",
       "  </tbody>\n",
       "</table>\n",
       "</div>"
      ],
      "text/plain": [
       "              mpg   cylinders  displacement       weight  acceleration  \\\n",
       "count  398.000000  398.000000    398.000000   398.000000    398.000000   \n",
       "mean    23.514573    5.454774    193.425879  2970.424623     15.568090   \n",
       "std      7.815984    1.701004    104.269838   846.841774      2.757689   \n",
       "min      9.000000    3.000000     68.000000  1613.000000      8.000000   \n",
       "25%     17.500000    4.000000    104.250000  2223.750000     13.825000   \n",
       "50%     23.000000    4.000000    148.500000  2803.500000     15.500000   \n",
       "75%     29.000000    8.000000    262.000000  3608.000000     17.175000   \n",
       "max     46.600000    8.000000    455.000000  5140.000000     24.800000   \n",
       "\n",
       "       model year      origin  \n",
       "count  398.000000  398.000000  \n",
       "mean    76.010050    1.572864  \n",
       "std      3.697627    0.802055  \n",
       "min     70.000000    1.000000  \n",
       "25%     73.000000    1.000000  \n",
       "50%     76.000000    1.000000  \n",
       "75%     79.000000    2.000000  \n",
       "max     82.000000    3.000000  "
      ]
     },
     "execution_count": 6,
     "metadata": {},
     "output_type": "execute_result"
    }
   ],
   "source": [
    "df.describe()"
   ]
  },
  {
   "cell_type": "code",
   "execution_count": 7,
   "id": "80411976",
   "metadata": {},
   "outputs": [
    {
     "data": {
      "text/plain": [
       "array(['130', '165', '150', '140', '198', '220', '215', '225', '190',\n",
       "       '170', '160', '95', '97', '85', '88', '46', '87', '90', '113',\n",
       "       '200', '210', '193', '?', '100', '105', '175', '153', '180', '110',\n",
       "       '72', '86', '70', '76', '65', '69', '60', '80', '54', '208', '155',\n",
       "       '112', '92', '145', '137', '158', '167', '94', '107', '230', '49',\n",
       "       '75', '91', '122', '67', '83', '78', '52', '61', '93', '148',\n",
       "       '129', '96', '71', '98', '115', '53', '81', '79', '120', '152',\n",
       "       '102', '108', '68', '58', '149', '89', '63', '48', '66', '139',\n",
       "       '103', '125', '133', '138', '135', '142', '77', '62', '132', '84',\n",
       "       '64', '74', '116', '82'], dtype=object)"
      ]
     },
     "execution_count": 7,
     "metadata": {},
     "output_type": "execute_result"
    }
   ],
   "source": [
    "df['horsepower'].unique()"
   ]
  },
  {
   "cell_type": "code",
   "execution_count": 8,
   "id": "53a38e7a",
   "metadata": {},
   "outputs": [
    {
     "name": "stdout",
     "output_type": "stream",
     "text": [
      "(398, 9)\n",
      "(392, 9)\n"
     ]
    }
   ],
   "source": [
    "print(df.shape)\n",
    "df=df[df['horsepower']!='?']\n",
    "print(df.shape)"
   ]
  },
  {
   "cell_type": "code",
   "execution_count": 9,
   "id": "143982ef",
   "metadata": {},
   "outputs": [
    {
     "data": {
      "text/plain": [
       "mpg             0\n",
       "cylinders       0\n",
       "displacement    0\n",
       "horsepower      0\n",
       "weight          0\n",
       "acceleration    0\n",
       "model year      0\n",
       "origin          0\n",
       "car name        0\n",
       "dtype: int64"
      ]
     },
     "execution_count": 9,
     "metadata": {},
     "output_type": "execute_result"
    }
   ],
   "source": [
    "df['horsepower']=df['horsepower'].astype(int)\n",
    "df.isnull().sum()"
   ]
  },
  {
   "cell_type": "code",
   "execution_count": 10,
   "id": "7757fe71",
   "metadata": {},
   "outputs": [
    {
     "data": {
      "text/plain": [
       "mpg             127\n",
       "cylinders         5\n",
       "displacement     81\n",
       "horsepower       93\n",
       "weight          346\n",
       "acceleration     95\n",
       "model year       13\n",
       "origin            3\n",
       "car name        301\n",
       "dtype: int64"
      ]
     },
     "execution_count": 10,
     "metadata": {},
     "output_type": "execute_result"
    }
   ],
   "source": [
    "df.nunique()"
   ]
  },
  {
   "cell_type": "code",
   "execution_count": 11,
   "id": "f799d21b",
   "metadata": {},
   "outputs": [
    {
     "data": {
      "image/png": "[encoded data removed]",
      "text/plain": [
       "<Figure size 1080x360 with 2 Axes>"
      ]
     },
     "metadata": {},
     "output_type": "display_data"
    }
   ],
   "source": [
    "plt.subplots(figsize=(15, 5)) \n",
    "for i, col in enumerate(['cylinders', 'origin']): \n",
    "    plt.subplot(1, 2, i+1) \n",
    "    x = df.groupby(col).mean()['mpg'] \n",
    "    x.plot.bar() \n",
    "    plt.xticks(rotation=0) \n",
    "plt.tight_layout() \n",
    "plt.show() "
   ]
  },
  {
   "cell_type": "code",
   "execution_count": 12,
   "id": "14f79a6e",
   "metadata": {},
   "outputs": [
    {
     "data": {
      "image/png": "[encoded data removed]",
      "text/plain": [
       "<Figure size 576x576 with 1 Axes>"
      ]
     },
     "metadata": {},
     "output_type": "display_data"
    }
   ],
   "source": [
    "plt.figure(figsize=(8,8))\n",
    "sb.heatmap(df.corr()>0.9,\n",
    "          annot=True,\n",
    "          cbar=False)\n",
    "plt.show()"
   ]
  },
  {
   "cell_type": "code",
   "execution_count": 13,
   "id": "cdc5d492",
   "metadata": {},
   "outputs": [],
   "source": [
    "df.drop('displacement',\n",
    "        axis=1,\n",
    "        inplace=True)"
   ]
  },
  {
   "cell_type": "code",
   "execution_count": 14,
   "id": "0a9d3415",
   "metadata": {},
   "outputs": [
    {
     "data": {
      "text/plain": [
       "((313, 6), (79, 6))"
      ]
     },
     "execution_count": 14,
     "metadata": {},
     "output_type": "execute_result"
    }
   ],
   "source": [
    "from sklearn.model_selection import train_test_split\n",
    "features=df.drop(['mpg','car name'],axis=1)\n",
    "target=df['mpg'].values\n",
    "\n",
    "X_train,X_val,Y_train,Y_val=train_test_split(features, target,\n",
    "                                  test_size=0.2,\n",
    "                                  random_state=22)\n",
    "X_train.shape, X_val.shape"
   ]
  },
  {
   "cell_type": "code",
   "execution_count": 15,
   "id": "d530b3fe",
   "metadata": {},
   "outputs": [],
   "source": [
    "AUTO=tf.data.experimental.AUTOTUNE\n",
    "train_ds=(\n",
    "    tf.data.Dataset\n",
    "    .from_tensor_slices((X_train,Y_train))\n",
    "    .batch(32)\n",
    "    .prefetch(AUTO)\n",
    ")\n",
    "\n",
    "val_ds=(\n",
    "    tf.data.Dataset\n",
    "    .from_tensor_slices((X_val,Y_val))\n",
    "    .batch(32)\n",
    "    .prefetch(AUTO)\n",
    ")"
   ]
  },
  {
   "cell_type": "code",
   "execution_count": 16,
   "id": "0927437a",
   "metadata": {},
   "outputs": [],
   "source": [
    "model = keras.Sequential([ \n",
    "    layers.Dense(256, activation='relu', input_shape=[6]), \n",
    "    layers.BatchNormalization(), \n",
    "    layers.Dense(256, activation='relu'), \n",
    "    layers.Dropout(0.3), \n",
    "    layers.BatchNormalization(), \n",
    "    layers.Dense(1, activation='relu') \n",
    "])"
   ]
  },
  {
   "cell_type": "code",
   "execution_count": 17,
   "id": "1231dfbf",
   "metadata": {},
   "outputs": [],
   "source": [
    "model.compile(\n",
    "    loss='mae',\n",
    "    optimizer='adam',\n",
    "    metrics=['mape']\n",
    ")"
   ]
  },
  {
   "cell_type": "code",
   "execution_count": 18,
   "id": "c5e70096",
   "metadata": {},
   "outputs": [
    {
     "name": "stdout",
     "output_type": "stream",
     "text": [
      "Model: \"sequential\"\n",
      "_________________________________________________________________\n",
      " Layer (type)                Output Shape              Param #   \n",
      "=================================================================\n",
      " dense (Dense)               (None, 256)               1792      \n",
      "                                                                 \n",
      " batch_normalization (Batch  (None, 256)               1024      \n",
      " Normalization)                                                  \n",
      "                                                                 \n",
      " dense_1 (Dense)             (None, 256)               65792     \n",
      "                                                                 \n",
      " dropout (Dropout)           (None, 256)               0         \n",
      "                                                                 \n",
      " batch_normalization_1 (Bat  (None, 256)               1024      \n",
      " chNormalization)                                                \n",
      "                                                                 \n",
      " dense_2 (Dense)             (None, 1)                 257       \n",
      "                                                                 \n",
      "=================================================================\n",
      "Total params: 69889 (273.00 KB)\n",
      "Trainable params: 68865 (269.00 KB)\n",
      "Non-trainable params: 1024 (4.00 KB)\n",
      "_________________________________________________________________\n"
     ]
    }
   ],
   "source": [
    "model.summary()"
   ]
  },
  {
   "cell_type": "code",
   "execution_count": 19,
   "id": "c45d60e0",
   "metadata": {},
   "outputs": [
    {
     "name": "stdout",
     "output_type": "stream",
     "text": [
      "Epoch 1/50\n",
      "10/10 [==============================] - 2s 29ms/step - loss: 21.1704 - mape: 84.1750 - val_loss: 22.6744 - val_mape: 138.3829\n",
      "Epoch 2/50\n",
      "10/10 [==============================] - 0s 6ms/step - loss: 19.4210 - mape: 74.2261 - val_loss: 18.5039 - val_mape: 110.1874\n",
      "Epoch 3/50\n",
      "10/10 [==============================] - 0s 5ms/step - loss: 18.7719 - mape: 70.9223 - val_loss: 14.8368 - val_mape: 81.7485\n",
      "Epoch 4/50\n",
      "10/10 [==============================] - 0s 5ms/step - loss: 18.1467 - mape: 67.8444 - val_loss: 12.1489 - val_mape: 58.9428\n",
      "Epoch 5/50\n",
      "10/10 [==============================] - 0s 4ms/step - loss: 17.6948 - mape: 65.8851 - val_loss: 10.4428 - val_mape: 44.1057\n",
      "Epoch 6/50\n",
      "10/10 [==============================] - 0s 5ms/step - loss: 16.8658 - mape: 61.8488 - val_loss: 10.0249 - val_mape: 39.0778\n",
      "Epoch 7/50\n",
      "10/10 [==============================] - 0s 6ms/step - loss: 16.2450 - mape: 59.0121 - val_loss: 9.3468 - val_mape: 35.3614\n",
      "Epoch 8/50\n",
      "10/10 [==============================] - 0s 5ms/step - loss: 15.7573 - mape: 57.1960 - val_loss: 8.6775 - val_mape: 34.3984\n",
      "Epoch 9/50\n",
      "10/10 [==============================] - 0s 5ms/step - loss: 15.2017 - mape: 54.7668 - val_loss: 9.0200 - val_mape: 38.0724\n",
      "Epoch 10/50\n",
      "10/10 [==============================] - 0s 5ms/step - loss: 14.6367 - mape: 52.6444 - val_loss: 9.7766 - val_mape: 43.9254\n",
      "Epoch 11/50\n",
      "10/10 [==============================] - 0s 5ms/step - loss: 13.8794 - mape: 49.2744 - val_loss: 8.2032 - val_mape: 35.2256\n",
      "Epoch 12/50\n",
      "10/10 [==============================] - 0s 5ms/step - loss: 13.1543 - mape: 46.5661 - val_loss: 7.9121 - val_mape: 34.3954\n",
      "Epoch 13/50\n",
      "10/10 [==============================] - 0s 4ms/step - loss: 12.8861 - mape: 45.9199 - val_loss: 7.5368 - val_mape: 36.3174\n",
      "Epoch 14/50\n",
      "10/10 [==============================] - 0s 5ms/step - loss: 11.9691 - mape: 41.7393 - val_loss: 6.1253 - val_mape: 26.3844\n",
      "Epoch 15/50\n",
      "10/10 [==============================] - 0s 4ms/step - loss: 11.4249 - mape: 40.0503 - val_loss: 6.9871 - val_mape: 33.7895\n",
      "Epoch 16/50\n",
      "10/10 [==============================] - 0s 5ms/step - loss: 11.1081 - mape: 38.8784 - val_loss: 6.8188 - val_mape: 33.3884\n",
      "Epoch 17/50\n",
      "10/10 [==============================] - 0s 4ms/step - loss: 10.7577 - mape: 38.1371 - val_loss: 9.2853 - val_mape: 47.4483\n",
      "Epoch 18/50\n",
      "10/10 [==============================] - 0s 4ms/step - loss: 10.1156 - mape: 35.4556 - val_loss: 8.7004 - val_mape: 46.5673\n",
      "Epoch 19/50\n",
      "10/10 [==============================] - 0s 5ms/step - loss: 10.0584 - mape: 35.7697 - val_loss: 7.8984 - val_mape: 42.9268\n",
      "Epoch 20/50\n",
      "10/10 [==============================] - 0s 5ms/step - loss: 10.7907 - mape: 38.3415 - val_loss: 10.4893 - val_mape: 57.1645\n",
      "Epoch 21/50\n",
      "10/10 [==============================] - 0s 5ms/step - loss: 10.6685 - mape: 37.5171 - val_loss: 10.9504 - val_mape: 60.1408\n",
      "Epoch 22/50\n",
      "10/10 [==============================] - 0s 5ms/step - loss: 10.2173 - mape: 36.3380 - val_loss: 10.3090 - val_mape: 55.7508\n",
      "Epoch 23/50\n",
      "10/10 [==============================] - 0s 5ms/step - loss: 9.7903 - mape: 34.6583 - val_loss: 11.1667 - val_mape: 60.5632\n",
      "Epoch 24/50\n",
      "10/10 [==============================] - 0s 4ms/step - loss: 9.6208 - mape: 34.2797 - val_loss: 13.2994 - val_mape: 72.9139\n",
      "Epoch 25/50\n",
      "10/10 [==============================] - 0s 5ms/step - loss: 9.4951 - mape: 34.2503 - val_loss: 13.9909 - val_mape: 75.7735\n",
      "Epoch 26/50\n",
      "10/10 [==============================] - 0s 4ms/step - loss: 8.9789 - mape: 32.4389 - val_loss: 15.5599 - val_mape: 84.6713\n",
      "Epoch 27/50\n",
      "10/10 [==============================] - 0s 4ms/step - loss: 8.4443 - mape: 30.6599 - val_loss: 13.3266 - val_mape: 72.5565\n",
      "Epoch 28/50\n",
      "10/10 [==============================] - 0s 4ms/step - loss: 8.1171 - mape: 29.8349 - val_loss: 11.8913 - val_mape: 61.9401\n",
      "Epoch 29/50\n",
      "10/10 [==============================] - 0s 5ms/step - loss: 7.3257 - mape: 27.1716 - val_loss: 10.2826 - val_mape: 54.4117\n",
      "Epoch 30/50\n",
      "10/10 [==============================] - 0s 5ms/step - loss: 6.5422 - mape: 24.4398 - val_loss: 9.0752 - val_mape: 44.7601\n",
      "Epoch 31/50\n",
      "10/10 [==============================] - 0s 5ms/step - loss: 5.2859 - mape: 20.4440 - val_loss: 6.8350 - val_mape: 34.4690\n",
      "Epoch 32/50\n",
      "10/10 [==============================] - 0s 5ms/step - loss: 3.9734 - mape: 15.9329 - val_loss: 6.7221 - val_mape: 35.3140\n",
      "Epoch 33/50\n",
      "10/10 [==============================] - 0s 5ms/step - loss: 3.4764 - mape: 14.1082 - val_loss: 6.8995 - val_mape: 36.0952\n",
      "Epoch 34/50\n",
      "10/10 [==============================] - 0s 4ms/step - loss: 3.2798 - mape: 13.8349 - val_loss: 6.9101 - val_mape: 35.9811\n",
      "Epoch 35/50\n",
      "10/10 [==============================] - 0s 5ms/step - loss: 3.0773 - mape: 13.4146 - val_loss: 6.1022 - val_mape: 31.0448\n",
      "Epoch 36/50\n",
      "10/10 [==============================] - 0s 4ms/step - loss: 3.0444 - mape: 13.0033 - val_loss: 6.9376 - val_mape: 35.3025\n",
      "Epoch 37/50\n",
      "10/10 [==============================] - 0s 4ms/step - loss: 3.0227 - mape: 13.0961 - val_loss: 8.3227 - val_mape: 42.0506\n",
      "Epoch 38/50\n",
      "10/10 [==============================] - 0s 4ms/step - loss: 3.0576 - mape: 13.0713 - val_loss: 6.8603 - val_mape: 34.7664\n",
      "Epoch 39/50\n",
      "10/10 [==============================] - 0s 5ms/step - loss: 3.1320 - mape: 13.5548 - val_loss: 6.7470 - val_mape: 34.3370\n",
      "Epoch 40/50\n",
      "10/10 [==============================] - 0s 5ms/step - loss: 3.0381 - mape: 12.9131 - val_loss: 7.5193 - val_mape: 38.8383\n",
      "Epoch 41/50\n",
      "10/10 [==============================] - 0s 4ms/step - loss: 3.0389 - mape: 12.8662 - val_loss: 7.3481 - val_mape: 37.6988\n",
      "Epoch 42/50\n",
      "10/10 [==============================] - 0s 5ms/step - loss: 2.8727 - mape: 12.3163 - val_loss: 8.3463 - val_mape: 44.3723\n",
      "Epoch 43/50\n",
      "10/10 [==============================] - 0s 5ms/step - loss: 2.9564 - mape: 12.7586 - val_loss: 9.6800 - val_mape: 50.3625\n",
      "Epoch 44/50\n",
      "10/10 [==============================] - 0s 5ms/step - loss: 3.0467 - mape: 12.8602 - val_loss: 8.5310 - val_mape: 45.5224\n",
      "Epoch 45/50\n",
      "10/10 [==============================] - 0s 5ms/step - loss: 3.0328 - mape: 13.0348 - val_loss: 6.8543 - val_mape: 35.8893\n",
      "Epoch 46/50\n",
      "10/10 [==============================] - 0s 4ms/step - loss: 3.0651 - mape: 13.2576 - val_loss: 5.6440 - val_mape: 28.1785\n",
      "Epoch 47/50\n",
      "10/10 [==============================] - 0s 5ms/step - loss: 3.0384 - mape: 13.0786 - val_loss: 4.3153 - val_mape: 21.5458\n",
      "Epoch 48/50\n",
      "10/10 [==============================] - 0s 5ms/step - loss: 2.8614 - mape: 12.4365 - val_loss: 5.0571 - val_mape: 25.8504\n",
      "Epoch 49/50\n",
      "10/10 [==============================] - 0s 5ms/step - loss: 2.9882 - mape: 12.9981 - val_loss: 3.9478 - val_mape: 19.4373\n",
      "Epoch 50/50\n",
      "10/10 [==============================] - 0s 5ms/step - loss: 2.9153 - mape: 12.5757 - val_loss: 5.2583 - val_mape: 27.6152\n"
     ]
    }
   ],
   "source": [
    "history=model.fit(train_ds,\n",
    "                 epochs=50,\n",
    "                 validation_data=val_ds)"
   ]
  },
  {
   "cell_type": "code",
   "execution_count": 20,
   "id": "2f819ca2",
   "metadata": {},
   "outputs": [
    {
     "data": {
      "text/html": [
       "<div>\n",
       "<style scoped>\n",
       "    .dataframe tbody tr th:only-of-type {\n",
       "        vertical-align: middle;\n",
       "    }\n",
       "\n",
       "    .dataframe tbody tr th {\n",
       "        vertical-align: top;\n",
       "    }\n",
       "\n",
       "    .dataframe thead th {\n",
       "        text-align: right;\n",
       "    }\n",
       "</style>\n",
       "<table border=\"1\" class=\"dataframe\">\n",
       "  <thead>\n",
       "    <tr style=\"text-align: right;\">\n",
       "      <th></th>\n",
       "      <th>loss</th>\n",
       "      <th>mape</th>\n",
       "      <th>val_loss</th>\n",
       "      <th>val_mape</th>\n",
       "    </tr>\n",
       "  </thead>\n",
       "  <tbody>\n",
       "    <tr>\n",
       "      <th>0</th>\n",
       "      <td>21.170427</td>\n",
       "      <td>84.175034</td>\n",
       "      <td>22.674404</td>\n",
       "      <td>138.382919</td>\n",
       "    </tr>\n",
       "    <tr>\n",
       "      <th>1</th>\n",
       "      <td>19.420977</td>\n",
       "      <td>74.226074</td>\n",
       "      <td>18.503891</td>\n",
       "      <td>110.187424</td>\n",
       "    </tr>\n",
       "    <tr>\n",
       "      <th>2</th>\n",
       "      <td>18.771925</td>\n",
       "      <td>70.922272</td>\n",
       "      <td>14.836787</td>\n",
       "      <td>81.748520</td>\n",
       "    </tr>\n",
       "    <tr>\n",
       "      <th>3</th>\n",
       "      <td>18.146692</td>\n",
       "      <td>67.844421</td>\n",
       "      <td>12.148917</td>\n",
       "      <td>58.942810</td>\n",
       "    </tr>\n",
       "    <tr>\n",
       "      <th>4</th>\n",
       "      <td>17.694775</td>\n",
       "      <td>65.885094</td>\n",
       "      <td>10.442828</td>\n",
       "      <td>44.105728</td>\n",
       "    </tr>\n",
       "  </tbody>\n",
       "</table>\n",
       "</div>"
      ],
      "text/plain": [
       "        loss       mape   val_loss    val_mape\n",
       "0  21.170427  84.175034  22.674404  138.382919\n",
       "1  19.420977  74.226074  18.503891  110.187424\n",
       "2  18.771925  70.922272  14.836787   81.748520\n",
       "3  18.146692  67.844421  12.148917   58.942810\n",
       "4  17.694775  65.885094  10.442828   44.105728"
      ]
     },
     "execution_count": 20,
     "metadata": {},
     "output_type": "execute_result"
    }
   ],
   "source": [
    "history_df=pd.DataFrame(history.history)\n",
    "history_df.head()"
   ]
  },
  {
   "cell_type": "code",
   "execution_count": 21,
   "id": "2fc02853",
   "metadata": {},
   "outputs": [
    {
     "data": {
      "text/plain": [
       "<AxesSubplot:>"
      ]
     },
     "execution_count": 21,
     "metadata": {},
     "output_type": "execute_result"
    },
    {
     "data": {
      "image/png": "[encoded data removed]",
      "text/plain": [
       "<Figure size 576x504 with 1 Axes>"
      ]
     },
     "metadata": {},
     "output_type": "display_data"
    },
    {
     "data": {
      "image/png": "[encoded data removed]",
      "text/plain": [
       "<Figure size 576x504 with 1 Axes>"
      ]
     },
     "metadata": {},
     "output_type": "display_data"
    }
   ],
   "source": [
    "history_df.loc[:,['loss','val_loss']].plot()\n",
    "history_df.loc[:,['mape','val_mape']].plot()"
   ]
  },
  {
   "cell_type": "code",
   "execution_count": null,
   "id": "c8675142",
   "metadata": {},
   "outputs": [],
   "source": []
  }
 ],
 "metadata": {
  "kernelspec": {
   "display_name": "Python 3",
   "language": "python",
   "name": "python3"
  },
  "language_info": {
   "codemirror_mode": {
    "name": "ipython",
    "version": 3
   },
   "file_extension": ".py",
   "mimetype": "text/x-python",
   "name": "python",
   "nbconvert_exporter": "python",
   "pygments_lexer": "ipython3",
   "version": "3.8.8"
  }
 },
 "nbformat": 4,
 "nbformat_minor": 5
}
